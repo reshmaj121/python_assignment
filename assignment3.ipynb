{
 "cells": [
  {
   "cell_type": "markdown",
   "metadata": {},
   "source": [
    "# Rename key city to location in the following dictionary"
   ]
  },
  {
   "cell_type": "code",
   "execution_count": 1,
   "metadata": {},
   "outputs": [
    {
     "name": "stdout",
     "output_type": "stream",
     "text": [
      "{'name': 'Sachin', 'age': 22, 'salary': 60000, 'location': 'New Delhi'}\n"
     ]
    }
   ],
   "source": [
    "skillsanta = {\n",
    "    'name': 'Sachin',\n",
    "    'age': 22,\n",
    "    'salary': 60000,\n",
    "    'city': 'New Delhi'\n",
    "}\n",
    "new_key = \"location\"\n",
    "old_key = \"city\"\n",
    "skillsanta[new_key] = skillsanta.pop(old_key)\n",
    "\n",
    "print(skillsanta)"
   ]
  },
  {
   "cell_type": "markdown",
   "metadata": {},
   "source": [
    "# Count the occurrence of each element in the list"
   ]
  },
  {
   "cell_type": "code",
   "execution_count": 19,
   "metadata": {},
   "outputs": [
    {
     "name": "stdout",
     "output_type": "stream",
     "text": [
      "Original List: [11, 45, 8, 11, 23, 45, 23, 45, 89]\n",
      "Printing Count of each item: {11: 2, 45: 3, 8: 1, 23: 2, 89: 1}\n"
     ]
    }
   ],
   "source": [
    "my_list = [11, 45, 8, 11, 23, 45, 23, 45, 89]\n",
    "new_list = {}\n",
    "\n",
    "for i in my_list:\n",
    "    new_list.update({i:new_list.get(i, 0) + 1})\n",
    "\n",
    "print(\"Original List:\", my_list)\n",
    "print(f\"Printing Count of each item: {new_list}\")  "
   ]
  },
  {
   "cell_type": "markdown",
   "metadata": {},
   "source": [
    "# Remove duplicate from a list and create a tuple and find the minimum and maximum number"
   ]
  },
  {
   "cell_type": "code",
   "execution_count": 3,
   "metadata": {},
   "outputs": [
    {
     "name": "stdout",
     "output_type": "stream",
     "text": [
      "Unique items: [87, 45, 41, 65, 94, 99]\n",
      "Tuple:  (87, 45, 41, 65, 94, 99)\n",
      "Maximum Number is: 99\n",
      "Minimum Number is: 41\n"
     ]
    }
   ],
   "source": [
    "sample_list = [87, 45, 41, 65, 94, 41, 99, 94]\n",
    "def remove_duplicate(x):\n",
    "  return list(dict.fromkeys(x))\n",
    "\n",
    "sample_list = remove_duplicate([87, 45, 41, 65, 94, 41, 99, 94])\n",
    "\n",
    "print(\"Unique items:\", sample_list)\n",
    "\n",
    "tuple_list = tuple(sample_list)\n",
    "print(\"Tuple: \", tuple_list)\n",
    "\n",
    "sample_list.sort()\n",
    "print(\"Maximum Number is:\", sample_list[-1])\n",
    "print(\"Minimum Number is:\", sample_list[0])\n"
   ]
  },
  {
   "cell_type": "markdown",
   "metadata": {},
   "source": [
    "# function showEmployee() in such a way that it should accept employee name, and it’s salary and display both"
   ]
  },
  {
   "cell_type": "code",
   "execution_count": 4,
   "metadata": {},
   "outputs": [
    {
     "name": "stdout",
     "output_type": "stream",
     "text": [
      "Employee Eddy salary is: 50000\n",
      "Employee Eddy salary is: 50000\n"
     ]
    }
   ],
   "source": [
    "def showEmployee(name, salary=50000):\n",
    "    print(\"Employee\", name + \" salary is:\", + salary)\n",
    "    \n",
    "showEmployee(\"Eddy\")\n",
    "showEmployee(\"Eddy\", 50000)\n"
   ]
  },
  {
   "cell_type": "markdown",
   "metadata": {},
   "source": [
    "# Create an inner function to calculate the addition"
   ]
  },
  {
   "cell_type": "code",
   "execution_count": 5,
   "metadata": {},
   "outputs": [
    {
     "name": "stdout",
     "output_type": "stream",
     "text": [
      "After adding 5 into addition will be: 55\n"
     ]
    }
   ],
   "source": [
    "def calculate(a, b):\n",
    "    def addition(a, b):\n",
    "        c = a + b\n",
    "        return c\n",
    "    sum = addition(a, b)\n",
    "    return sum + 5\n",
    "\n",
    "sum = calculate(20, 30)\n",
    "print(\"After adding 5 into addition will be:\", sum) "
   ]
  },
  {
   "cell_type": "markdown",
   "metadata": {},
   "source": [
    "# Fibonacci series of n numbers using recursive function"
   ]
  },
  {
   "cell_type": "code",
   "execution_count": 6,
   "metadata": {},
   "outputs": [
    {
     "name": "stdout",
     "output_type": "stream",
     "text": [
      "Fibonacci series of 10 is: \n",
      "0\n",
      "1\n",
      "1\n",
      "2\n",
      "3\n",
      "5\n",
      "8\n",
      "13\n",
      "21\n",
      "34\n"
     ]
    }
   ],
   "source": [
    "def fibonacci(n):\n",
    "    if n <= 1:\n",
    "        return n\n",
    "    else:\n",
    "        return(fibonacci(n-1) + fibonacci(n-2))\n",
    "\n",
    "num = 10\n",
    "\n",
    "if num <= 0:\n",
    "    print(\"positive integer required for Fibonacci\")\n",
    "else:\n",
    "    print(f\"Fibonacci series of {num} is: \")\n",
    "    for i in range(num):\n",
    "        print(fibonacci(i))"
   ]
  },
  {
   "cell_type": "markdown",
   "metadata": {},
   "source": [
    "# Assign a different name to function and call it through the new name"
   ]
  },
  {
   "cell_type": "code",
   "execution_count": 7,
   "metadata": {},
   "outputs": [
    {
     "name": "stdout",
     "output_type": "stream",
     "text": [
      "The age of Naresh is 30 years\n",
      "The age of Naresh is 30 years\n"
     ]
    }
   ],
   "source": [
    "def displayStudent(name, age):\n",
    "    print(f\"The age of {name} is {age} years\")\n",
    "\n",
    "displayStudent(\"Naresh\", 30)\n",
    "\n",
    "showStudent = displayStudent\n",
    "\n",
    "showStudent(\"Naresh\", 30)"
   ]
  },
  {
   "cell_type": "markdown",
   "metadata": {},
   "source": [
    "# Validate mobile number taken from user"
   ]
  },
  {
   "cell_type": "code",
   "execution_count": 1,
   "metadata": {},
   "outputs": [
    {
     "name": "stdout",
     "output_type": "stream",
     "text": [
      "Enter your mobile number: 444522655\n",
      "Invalid Mobile Number\n",
      "Enter your mobile number: \n",
      "Enter Mobile Number\n",
      "Enter your mobile number: 8564321545\n",
      "Valid Mobile Number\n"
     ]
    }
   ],
   "source": [
    "while True: \n",
    "    mobile = input(\"Enter your mobile number: \")\n",
    "    if(len(mobile)==10 and mobile[0] in ['9', '8', '7'] and mobile.isnumeric()):\n",
    "        print(\"Valid Mobile Number\")\n",
    "        break\n",
    "    elif (mobile == \"\"):\n",
    "        print(\"Enter Mobile Number\")\n",
    "    else:\n",
    "        print(\"Invalid Mobile Number\")"
   ]
  },
  {
   "cell_type": "markdown",
   "metadata": {},
   "source": [
    "# Calculate no of uppercases and lowercases in string"
   ]
  },
  {
   "cell_type": "code",
   "execution_count": 18,
   "metadata": {},
   "outputs": [
    {
     "name": "stdout",
     "output_type": "stream",
     "text": [
      "No of uppercases characters: 3\n",
      "No of lowercases characters: 13\n"
     ]
    }
   ],
   "source": [
    "def case_string(str):\n",
    "    upper = 0\n",
    "    lower = 0\n",
    "    for char in str:\n",
    "        if char.islower():\n",
    "            lower += 1\n",
    "        elif char.isupper():\n",
    "            upper += 1\n",
    "        else:\n",
    "            pass\n",
    "    print(f\"No of uppercases characters: {upper}\\nNo of lowercases characters: {lower}\")\n",
    "    \n",
    "\n",
    "case_string(\"The quick Brown Fox\")"
   ]
  },
  {
   "cell_type": "markdown",
   "metadata": {},
   "source": [
    "# Python function to check whether a number is perfect or not"
   ]
  },
  {
   "cell_type": "code",
   "execution_count": 1,
   "metadata": {},
   "outputs": [
    {
     "name": "stdout",
     "output_type": "stream",
     "text": [
      "Enter any Minimum number: 1\n",
      "Enter any Maximum number: 2000\n",
      "Perfect Number between 1 and 2000 is: 6\n",
      "Perfect Number between 1 and 2000 is: 28\n",
      "Perfect Number between 1 and 2000 is: 496\n"
     ]
    }
   ],
   "source": [
    "min = int(input(\"Enter any Minimum number: \"))\n",
    "max = int(input(\"Enter any Maximum number: \"))\n",
    "\n",
    "for num in range(min, max - 1):\n",
    "    sum = 0\n",
    "    for n in range(1, num - 1):\n",
    "        if(num % n == 0):\n",
    "            sum = sum + n       \n",
    "            \n",
    "    if(sum == num):\n",
    "        print(f\"Perfect Number between {min} and {max} is: {num}\")\n",
    "    "
   ]
  },
  {
   "cell_type": "code",
   "execution_count": null,
   "metadata": {},
   "outputs": [],
   "source": []
  }
 ],
 "metadata": {
  "kernelspec": {
   "display_name": "Python 3",
   "language": "python",
   "name": "python3"
  },
  "language_info": {
   "codemirror_mode": {
    "name": "ipython",
    "version": 3
   },
   "file_extension": ".py",
   "mimetype": "text/x-python",
   "name": "python",
   "nbconvert_exporter": "python",
   "pygments_lexer": "ipython3",
   "version": "3.8.3"
  }
 },
 "nbformat": 4,
 "nbformat_minor": 4
}
